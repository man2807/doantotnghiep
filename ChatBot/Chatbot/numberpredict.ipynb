{
 "cells": [
  {
   "cell_type": "code",
   "execution_count": 5,
   "metadata": {},
   "outputs": [],
   "source": [
    "import numpy as np\n",
    "import pandas as pd\n",
    "from sklearn.model_selection import train_test_split as tts\n",
    "from tensorflow.keras.models import load_model"
   ]
  },
  {
   "cell_type": "code",
   "execution_count": 6,
   "metadata": {},
   "outputs": [],
   "source": [
    "model = load_model('C:/Users/Admin/Desktop/number/number.h5')"
   ]
  },
  {
   "cell_type": "code",
   "execution_count": 7,
   "metadata": {},
   "outputs": [],
   "source": [
    "number2 = [0] * 100\n",
    "X = [82,\t65,\t72,\t60,\t0 ,74,18]\n",
    "for j in X:\n",
    "    for idxnum,num in enumerate(number2):        \n",
    "        if(j == idxnum):\n",
    "            number2[idxnum] = 1\n",
    "number2 = np.asarray(number2).astype(np.float32)"
   ]
  },
  {
   "cell_type": "code",
   "execution_count": 8,
   "metadata": {},
   "outputs": [
    {
     "name": "stdout",
     "output_type": "stream",
     "text": [
      "[7.6406413e-06 4.3828296e-04 7.1437910e-02 3.0432321e-02 1.9154178e-03\n",
      " 8.5788852e-01 1.0068963e-02 4.5515291e-05 2.4896255e-02 2.8691660e-03]\n",
      "0 7.640641e-06\n",
      "1 0.00043828296\n",
      "2 0.07143791\n",
      "3 0.030432321\n",
      "4 0.0019154178\n",
      "NEED to find:  5 0.8578885\n",
      "5 0.8578885\n",
      "6 0.010068963\n",
      "7 4.551529e-05\n",
      "8 0.024896255\n",
      "9 0.002869166\n"
     ]
    }
   ],
   "source": [
    "res = model.predict(np.array([number2]))[0]\n",
    "print(res)\n",
    "ERROR_THRESHOLD = 0.4\n",
    "for i,r in enumerate(res):\n",
    "    if r>ERROR_THRESHOLD:\n",
    "        print(\"NEED to find: \", i,r)\n",
    "    print(i,r)\n"
   ]
  }
 ],
 "metadata": {
  "interpreter": {
   "hash": "b8782ec8a350c39af7bae1b008a9cddafb0b692059ab7353519d99b33defec12"
  },
  "kernelspec": {
   "display_name": "Python 3.7.12 ('Tensorflow')",
   "language": "python",
   "name": "python3"
  },
  "language_info": {
   "codemirror_mode": {
    "name": "ipython",
    "version": 3
   },
   "file_extension": ".py",
   "mimetype": "text/x-python",
   "name": "python",
   "nbconvert_exporter": "python",
   "pygments_lexer": "ipython3",
   "version": "3.7.12"
  },
  "orig_nbformat": 4
 },
 "nbformat": 4,
 "nbformat_minor": 2
}
